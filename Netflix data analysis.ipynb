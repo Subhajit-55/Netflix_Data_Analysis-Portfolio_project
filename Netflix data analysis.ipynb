{
 "cells": [
  {
   "cell_type": "markdown",
   "id": "cbcb03e7",
   "metadata": {},
   "source": [
    "#                                   Netflix Data Analysis"
   ]
  },
  {
   "cell_type": "code",
   "execution_count": 198,
   "id": "53ceb3c3",
   "metadata": {},
   "outputs": [],
   "source": [
    "import numpy as np\n",
    "import pandas as pd\n",
    "import matplotlib.pyplot as plt\n",
    "import seaborn as sns\n",
    "%matplotlib inline"
   ]
  },
  {
   "cell_type": "code",
   "execution_count": 199,
   "id": "1f2b838c",
   "metadata": {},
   "outputs": [],
   "source": [
    "netflix = pd.read_csv('titles.csv')\n",
    "credits = pd.read_csv('credits.csv')"
   ]
  },
  {
   "cell_type": "code",
   "execution_count": 200,
   "id": "9736b5bc",
   "metadata": {},
   "outputs": [
    {
     "data": {
      "text/html": [
       "<div>\n",
       "<style scoped>\n",
       "    .dataframe tbody tr th:only-of-type {\n",
       "        vertical-align: middle;\n",
       "    }\n",
       "\n",
       "    .dataframe tbody tr th {\n",
       "        vertical-align: top;\n",
       "    }\n",
       "\n",
       "    .dataframe thead th {\n",
       "        text-align: right;\n",
       "    }\n",
       "</style>\n",
       "<table border=\"1\" class=\"dataframe\">\n",
       "  <thead>\n",
       "    <tr style=\"text-align: right;\">\n",
       "      <th></th>\n",
       "      <th>id</th>\n",
       "      <th>title</th>\n",
       "      <th>type</th>\n",
       "      <th>description</th>\n",
       "      <th>release_year</th>\n",
       "      <th>age_certification</th>\n",
       "      <th>runtime</th>\n",
       "      <th>genres</th>\n",
       "      <th>production_countries</th>\n",
       "      <th>seasons</th>\n",
       "      <th>imdb_id</th>\n",
       "      <th>imdb_score</th>\n",
       "      <th>imdb_votes</th>\n",
       "      <th>tmdb_popularity</th>\n",
       "      <th>tmdb_score</th>\n",
       "    </tr>\n",
       "  </thead>\n",
       "  <tbody>\n",
       "    <tr>\n",
       "      <th>0</th>\n",
       "      <td>ts300399</td>\n",
       "      <td>Five Came Back: The Reference Films</td>\n",
       "      <td>SHOW</td>\n",
       "      <td>This collection includes 12 World War II-era p...</td>\n",
       "      <td>1945</td>\n",
       "      <td>TV-MA</td>\n",
       "      <td>51</td>\n",
       "      <td>['documentation']</td>\n",
       "      <td>['US']</td>\n",
       "      <td>1.0</td>\n",
       "      <td>NaN</td>\n",
       "      <td>NaN</td>\n",
       "      <td>NaN</td>\n",
       "      <td>0.601</td>\n",
       "      <td>NaN</td>\n",
       "    </tr>\n",
       "    <tr>\n",
       "      <th>1</th>\n",
       "      <td>tm82169</td>\n",
       "      <td>Rocky</td>\n",
       "      <td>MOVIE</td>\n",
       "      <td>When world heavyweight boxing champion, Apollo...</td>\n",
       "      <td>1976</td>\n",
       "      <td>PG</td>\n",
       "      <td>119</td>\n",
       "      <td>['drama', 'sport']</td>\n",
       "      <td>['US']</td>\n",
       "      <td>NaN</td>\n",
       "      <td>tt0075148</td>\n",
       "      <td>8.1</td>\n",
       "      <td>588100.0</td>\n",
       "      <td>106.361</td>\n",
       "      <td>7.782</td>\n",
       "    </tr>\n",
       "    <tr>\n",
       "      <th>2</th>\n",
       "      <td>tm17823</td>\n",
       "      <td>Grease</td>\n",
       "      <td>MOVIE</td>\n",
       "      <td>Australian good girl Sandy and greaser Danny f...</td>\n",
       "      <td>1978</td>\n",
       "      <td>PG</td>\n",
       "      <td>110</td>\n",
       "      <td>['romance', 'comedy']</td>\n",
       "      <td>['US']</td>\n",
       "      <td>NaN</td>\n",
       "      <td>tt0077631</td>\n",
       "      <td>7.2</td>\n",
       "      <td>283316.0</td>\n",
       "      <td>33.160</td>\n",
       "      <td>7.406</td>\n",
       "    </tr>\n",
       "    <tr>\n",
       "      <th>3</th>\n",
       "      <td>tm191099</td>\n",
       "      <td>The Sting</td>\n",
       "      <td>MOVIE</td>\n",
       "      <td>A novice con man teams up with an acknowledged...</td>\n",
       "      <td>1973</td>\n",
       "      <td>PG</td>\n",
       "      <td>129</td>\n",
       "      <td>['crime', 'drama', 'comedy', 'music']</td>\n",
       "      <td>['US']</td>\n",
       "      <td>NaN</td>\n",
       "      <td>tt0070735</td>\n",
       "      <td>8.3</td>\n",
       "      <td>266738.0</td>\n",
       "      <td>24.616</td>\n",
       "      <td>8.020</td>\n",
       "    </tr>\n",
       "    <tr>\n",
       "      <th>4</th>\n",
       "      <td>tm69975</td>\n",
       "      <td>Rocky II</td>\n",
       "      <td>MOVIE</td>\n",
       "      <td>After Rocky goes the distance with champ Apoll...</td>\n",
       "      <td>1979</td>\n",
       "      <td>PG</td>\n",
       "      <td>119</td>\n",
       "      <td>['drama', 'sport']</td>\n",
       "      <td>['US']</td>\n",
       "      <td>NaN</td>\n",
       "      <td>tt0079817</td>\n",
       "      <td>7.3</td>\n",
       "      <td>216307.0</td>\n",
       "      <td>75.699</td>\n",
       "      <td>7.246</td>\n",
       "    </tr>\n",
       "  </tbody>\n",
       "</table>\n",
       "</div>"
      ],
      "text/plain": [
       "         id                                title   type  \\\n",
       "0  ts300399  Five Came Back: The Reference Films   SHOW   \n",
       "1   tm82169                                Rocky  MOVIE   \n",
       "2   tm17823                               Grease  MOVIE   \n",
       "3  tm191099                            The Sting  MOVIE   \n",
       "4   tm69975                             Rocky II  MOVIE   \n",
       "\n",
       "                                         description  release_year  \\\n",
       "0  This collection includes 12 World War II-era p...          1945   \n",
       "1  When world heavyweight boxing champion, Apollo...          1976   \n",
       "2  Australian good girl Sandy and greaser Danny f...          1978   \n",
       "3  A novice con man teams up with an acknowledged...          1973   \n",
       "4  After Rocky goes the distance with champ Apoll...          1979   \n",
       "\n",
       "  age_certification  runtime                                 genres  \\\n",
       "0             TV-MA       51                      ['documentation']   \n",
       "1                PG      119                     ['drama', 'sport']   \n",
       "2                PG      110                  ['romance', 'comedy']   \n",
       "3                PG      129  ['crime', 'drama', 'comedy', 'music']   \n",
       "4                PG      119                     ['drama', 'sport']   \n",
       "\n",
       "  production_countries  seasons    imdb_id  imdb_score  imdb_votes  \\\n",
       "0               ['US']      1.0        NaN         NaN         NaN   \n",
       "1               ['US']      NaN  tt0075148         8.1    588100.0   \n",
       "2               ['US']      NaN  tt0077631         7.2    283316.0   \n",
       "3               ['US']      NaN  tt0070735         8.3    266738.0   \n",
       "4               ['US']      NaN  tt0079817         7.3    216307.0   \n",
       "\n",
       "   tmdb_popularity  tmdb_score  \n",
       "0            0.601         NaN  \n",
       "1          106.361       7.782  \n",
       "2           33.160       7.406  \n",
       "3           24.616       8.020  \n",
       "4           75.699       7.246  "
      ]
     },
     "execution_count": 200,
     "metadata": {},
     "output_type": "execute_result"
    }
   ],
   "source": [
    "netflix.head()"
   ]
  },
  {
   "cell_type": "code",
   "execution_count": 201,
   "id": "881ea763",
   "metadata": {},
   "outputs": [
    {
     "data": {
      "text/html": [
       "<div>\n",
       "<style scoped>\n",
       "    .dataframe tbody tr th:only-of-type {\n",
       "        vertical-align: middle;\n",
       "    }\n",
       "\n",
       "    .dataframe tbody tr th {\n",
       "        vertical-align: top;\n",
       "    }\n",
       "\n",
       "    .dataframe thead th {\n",
       "        text-align: right;\n",
       "    }\n",
       "</style>\n",
       "<table border=\"1\" class=\"dataframe\">\n",
       "  <thead>\n",
       "    <tr style=\"text-align: right;\">\n",
       "      <th></th>\n",
       "      <th>person_id</th>\n",
       "      <th>id</th>\n",
       "      <th>name</th>\n",
       "      <th>character</th>\n",
       "      <th>role</th>\n",
       "    </tr>\n",
       "  </thead>\n",
       "  <tbody>\n",
       "    <tr>\n",
       "      <th>0</th>\n",
       "      <td>3180</td>\n",
       "      <td>tm82169</td>\n",
       "      <td>Sylvester Stallone</td>\n",
       "      <td>Robert \"Rocky\" Balboa</td>\n",
       "      <td>ACTOR</td>\n",
       "    </tr>\n",
       "    <tr>\n",
       "      <th>1</th>\n",
       "      <td>7748</td>\n",
       "      <td>tm82169</td>\n",
       "      <td>Talia Shire</td>\n",
       "      <td>Adrianna \"Adrian\" Pennino</td>\n",
       "      <td>ACTOR</td>\n",
       "    </tr>\n",
       "    <tr>\n",
       "      <th>2</th>\n",
       "      <td>7749</td>\n",
       "      <td>tm82169</td>\n",
       "      <td>Burt Young</td>\n",
       "      <td>Paulie Pennino</td>\n",
       "      <td>ACTOR</td>\n",
       "    </tr>\n",
       "    <tr>\n",
       "      <th>3</th>\n",
       "      <td>7750</td>\n",
       "      <td>tm82169</td>\n",
       "      <td>Carl Weathers</td>\n",
       "      <td>Apollo Creed</td>\n",
       "      <td>ACTOR</td>\n",
       "    </tr>\n",
       "    <tr>\n",
       "      <th>4</th>\n",
       "      <td>7751</td>\n",
       "      <td>tm82169</td>\n",
       "      <td>Burgess Meredith</td>\n",
       "      <td>Mickey Goldmill</td>\n",
       "      <td>ACTOR</td>\n",
       "    </tr>\n",
       "    <tr>\n",
       "      <th>...</th>\n",
       "      <td>...</td>\n",
       "      <td>...</td>\n",
       "      <td>...</td>\n",
       "      <td>...</td>\n",
       "      <td>...</td>\n",
       "    </tr>\n",
       "    <tr>\n",
       "      <th>81350</th>\n",
       "      <td>449518</td>\n",
       "      <td>tm1072700</td>\n",
       "      <td>Kayode Olaiya</td>\n",
       "      <td>Uncle Adio</td>\n",
       "      <td>ACTOR</td>\n",
       "    </tr>\n",
       "    <tr>\n",
       "      <th>81351</th>\n",
       "      <td>2722717</td>\n",
       "      <td>tm1072700</td>\n",
       "      <td>Tolu Osaile</td>\n",
       "      <td>Sade</td>\n",
       "      <td>ACTOR</td>\n",
       "    </tr>\n",
       "    <tr>\n",
       "      <th>81352</th>\n",
       "      <td>2722797</td>\n",
       "      <td>tm1072700</td>\n",
       "      <td>Eniola Oyetola</td>\n",
       "      <td>Officer Meks</td>\n",
       "      <td>ACTOR</td>\n",
       "    </tr>\n",
       "    <tr>\n",
       "      <th>81353</th>\n",
       "      <td>866314</td>\n",
       "      <td>tm1072700</td>\n",
       "      <td>Tope Tedela</td>\n",
       "      <td>Officer Jack</td>\n",
       "      <td>ACTOR</td>\n",
       "    </tr>\n",
       "    <tr>\n",
       "      <th>81354</th>\n",
       "      <td>1807691</td>\n",
       "      <td>tm1072700</td>\n",
       "      <td>Taiwo Egunjobi</td>\n",
       "      <td>NaN</td>\n",
       "      <td>DIRECTOR</td>\n",
       "    </tr>\n",
       "  </tbody>\n",
       "</table>\n",
       "<p>81355 rows × 5 columns</p>\n",
       "</div>"
      ],
      "text/plain": [
       "       person_id         id                name                  character  \\\n",
       "0           3180    tm82169  Sylvester Stallone      Robert \"Rocky\" Balboa   \n",
       "1           7748    tm82169         Talia Shire  Adrianna \"Adrian\" Pennino   \n",
       "2           7749    tm82169          Burt Young             Paulie Pennino   \n",
       "3           7750    tm82169       Carl Weathers               Apollo Creed   \n",
       "4           7751    tm82169    Burgess Meredith            Mickey Goldmill   \n",
       "...          ...        ...                 ...                        ...   \n",
       "81350     449518  tm1072700       Kayode Olaiya                 Uncle Adio   \n",
       "81351    2722717  tm1072700         Tolu Osaile                       Sade   \n",
       "81352    2722797  tm1072700      Eniola Oyetola               Officer Meks   \n",
       "81353     866314  tm1072700         Tope Tedela               Officer Jack   \n",
       "81354    1807691  tm1072700      Taiwo Egunjobi                        NaN   \n",
       "\n",
       "           role  \n",
       "0         ACTOR  \n",
       "1         ACTOR  \n",
       "2         ACTOR  \n",
       "3         ACTOR  \n",
       "4         ACTOR  \n",
       "...         ...  \n",
       "81350     ACTOR  \n",
       "81351     ACTOR  \n",
       "81352     ACTOR  \n",
       "81353     ACTOR  \n",
       "81354  DIRECTOR  \n",
       "\n",
       "[81355 rows x 5 columns]"
      ]
     },
     "execution_count": 201,
     "metadata": {},
     "output_type": "execute_result"
    }
   ],
   "source": [
    "credits"
   ]
  },
  {
   "cell_type": "markdown",
   "id": "0077df20",
   "metadata": {},
   "source": [
    "## __Data preparation__"
   ]
  },
  {
   "cell_type": "markdown",
   "id": "1e426a1e",
   "metadata": {},
   "source": [
    "### Rename columns"
   ]
  },
  {
   "cell_type": "code",
   "execution_count": 202,
   "id": "a47979bc",
   "metadata": {},
   "outputs": [],
   "source": [
    "netflix.rename(columns={'production_countries':'country'},inplace=True)"
   ]
  },
  {
   "cell_type": "markdown",
   "id": "d1ded119",
   "metadata": {},
   "source": [
    "### Remove unwanted strings attached"
   ]
  },
  {
   "cell_type": "code",
   "execution_count": 203,
   "id": "280b5ba8",
   "metadata": {},
   "outputs": [],
   "source": [
    "netflix['genres']=netflix['genres'].str.replace('[','',regex=True)\n",
    "netflix['genres']=netflix['genres'].str.replace(']','',regex=True)\n",
    "netflix['genres']=netflix['genres'].str.replace(\"'\",'',regex=True)"
   ]
  },
  {
   "cell_type": "code",
   "execution_count": 204,
   "id": "f60e426e",
   "metadata": {},
   "outputs": [],
   "source": [
    "netflix['country']=netflix['country'].str.replace('[','',regex=True)\n",
    "netflix['country']=netflix['country'].str.replace(']','',regex=True)\n",
    "netflix['country']=netflix['country'].str.replace(\"'\",'',regex=True)"
   ]
  },
  {
   "cell_type": "code",
   "execution_count": 205,
   "id": "a9a8454f",
   "metadata": {},
   "outputs": [],
   "source": [
    "netflix['country']= netflix['country'].replace('',np.nan,regex = True)"
   ]
  },
  {
   "cell_type": "code",
   "execution_count": 206,
   "id": "8d04db27",
   "metadata": {},
   "outputs": [],
   "source": [
    "netflix['genres']= netflix['genres'].replace('',np.nan,regex = True)"
   ]
  },
  {
   "cell_type": "code",
   "execution_count": 207,
   "id": "851f13ac",
   "metadata": {},
   "outputs": [],
   "source": [
    "netflix['country'] = netflix['country'].str.split(',')"
   ]
  },
  {
   "cell_type": "code",
   "execution_count": 208,
   "id": "775200a1",
   "metadata": {},
   "outputs": [],
   "source": [
    "netflix = netflix.explode('country')"
   ]
  },
  {
   "cell_type": "code",
   "execution_count": 209,
   "id": "06ae314c",
   "metadata": {},
   "outputs": [],
   "source": [
    "netflix = netflix.reset_index(drop=True)"
   ]
  },
  {
   "cell_type": "code",
   "execution_count": 210,
   "id": "b7bafaaa",
   "metadata": {},
   "outputs": [],
   "source": [
    "netflix['id']=netflix['id'].str.replace('\\n', '')\n",
    "netflix['title']=netflix['title'].str.replace('\\n', '')\n",
    "netflix['type']=netflix['type'].str.replace('\\n', '')\n",
    "\n",
    "netflix['id'] = netflix['id'].str.strip()\n",
    "netflix['title'] = netflix['title'].str.strip()\n",
    "netflix['type'] = netflix['type'].str.strip()"
   ]
  },
  {
   "cell_type": "code",
   "execution_count": 211,
   "id": "61b00db1",
   "metadata": {},
   "outputs": [],
   "source": [
    "netflix['id'] = netflix['id'].str.strip()\n",
    "netflix['title'] = netflix['title'].str.strip()\n",
    "netflix['type'] = netflix['type'].str.strip()\n",
    "netflix['description'] = netflix['description'].str.strip()\n",
    "netflix['age_certification'] = netflix['age_certification'].str.strip()\n",
    "netflix['genres'] = netflix['genres'].str.strip()\n",
    "netflix['country'] = netflix['country'].str.strip()\n",
    "netflix['imdb_id'] = netflix['imdb_id'].str.strip()"
   ]
  },
  {
   "cell_type": "markdown",
   "id": "7dbf182c",
   "metadata": {},
   "source": [
    "### Drop rows with null values"
   ]
  },
  {
   "cell_type": "code",
   "execution_count": 212,
   "id": "2a337c2d",
   "metadata": {},
   "outputs": [],
   "source": [
    "netflix.dropna(axis=0, how=\"any\", subset=['genres','country'], inplace=True)"
   ]
  },
  {
   "cell_type": "markdown",
   "id": "74d5ed20",
   "metadata": {},
   "source": [
    "## Data exploration"
   ]
  },
  {
   "cell_type": "markdown",
   "id": "0b99f61e",
   "metadata": {},
   "source": [
    "# Count of movies and shows"
   ]
  },
  {
   "cell_type": "code",
   "execution_count": 213,
   "id": "b7f0db91",
   "metadata": {},
   "outputs": [],
   "source": [
    "drp_dup_row = netflix.drop_duplicates(subset='id', keep=\"first\", inplace=False)"
   ]
  },
  {
   "cell_type": "code",
   "execution_count": 214,
   "id": "889dae76",
   "metadata": {},
   "outputs": [],
   "source": [
    "type_count = drp_dup_row['type'].value_counts()"
   ]
  },
  {
   "cell_type": "code",
   "execution_count": 215,
   "id": "9626c0df",
   "metadata": {},
   "outputs": [
    {
     "data": {
      "image/png": "[encoded data removed]",
      "text/plain": [
       "<Figure size 800x550 with 1 Axes>"
      ]
     },
     "metadata": {},
     "output_type": "display_data"
    }
   ],
   "source": [
    "plt.style.use('fivethirtyeight')\n",
    "plt.pie(type_count,labels=type_count,startangle=90,autopct='%1.1f%%',wedgeprops = {\"edgecolor\" : \"black\"})\n",
    "plt.title('Movie vs Show')\n",
    "plt.tight_layout()\n",
    "plt.legend(loc = 'upper left', labels=type_count.index,fontsize='10')\n",
    "plt.show()"
   ]
  },
  {
   "cell_type": "markdown",
   "id": "ca229686",
   "metadata": {},
   "source": [
    "# Count of Age Certification"
   ]
  },
  {
   "cell_type": "code",
   "execution_count": 216,
   "id": "32e66746",
   "metadata": {},
   "outputs": [
    {
     "data": {
      "image/png": "[encoded data removed]",
      "text/plain": [
       "<Figure size 800x550 with 1 Axes>"
      ]
     },
     "metadata": {},
     "output_type": "display_data"
    }
   ],
   "source": [
    "df = netflix['age_certification'].value_counts().reset_index()\n",
    "df\n",
    "x = df['index']\n",
    "y = df['age_certification']\n",
    "\n",
    "plt.style.use('fivethirtyeight')\n",
    "plt.bar(x,y,color = '#E50914')\n",
    "\n",
    "plt.xlabel('age_certification')\n",
    "plt.ylabel('Total count')\n",
    "plt.title('Age certification count')\n",
    "plt.tight_layout()\n",
    "plt.show()"
   ]
  },
  {
   "cell_type": "markdown",
   "id": "f3e4e1a6",
   "metadata": {},
   "source": [
    "# Number of movies and shows per country"
   ]
  },
  {
   "cell_type": "code",
   "execution_count": 217,
   "id": "58fedc1a",
   "metadata": {},
   "outputs": [
    {
     "data": {
      "text/plain": [
       "country  type \n",
       "AE       MOVIE    22\n",
       "         SHOW      2\n",
       "AF       MOVIE     2\n",
       "AL       MOVIE     2\n",
       "AO       MOVIE     1\n",
       "                  ..\n",
       "VN       MOVIE     4\n",
       "         SHOW      1\n",
       "ZA       MOVIE    42\n",
       "         SHOW     14\n",
       "ZW       MOVIE     1\n",
       "Length: 165, dtype: int64"
      ]
     },
     "execution_count": 217,
     "metadata": {},
     "output_type": "execute_result"
    }
   ],
   "source": [
    "country_grp = netflix.groupby(['country'])\n",
    "group = country_grp[['type']].value_counts()\n",
    "group"
   ]
  },
  {
   "cell_type": "markdown",
   "id": "34df906a",
   "metadata": {},
   "source": [
    "# Top 10 countries by number of movies"
   ]
  },
  {
   "cell_type": "code",
   "execution_count": 218,
   "id": "7ece708a",
   "metadata": {},
   "outputs": [
    {
     "data": {
      "text/html": [
       "<div>\n",
       "<style scoped>\n",
       "    .dataframe tbody tr th:only-of-type {\n",
       "        vertical-align: middle;\n",
       "    }\n",
       "\n",
       "    .dataframe tbody tr th {\n",
       "        vertical-align: top;\n",
       "    }\n",
       "\n",
       "    .dataframe thead th {\n",
       "        text-align: right;\n",
       "    }\n",
       "</style>\n",
       "<table border=\"1\" class=\"dataframe\">\n",
       "  <thead>\n",
       "    <tr style=\"text-align: right;\">\n",
       "      <th></th>\n",
       "      <th>type</th>\n",
       "    </tr>\n",
       "    <tr>\n",
       "      <th>country</th>\n",
       "      <th></th>\n",
       "    </tr>\n",
       "  </thead>\n",
       "  <tbody>\n",
       "    <tr>\n",
       "      <th>US</th>\n",
       "      <td>1426</td>\n",
       "    </tr>\n",
       "    <tr>\n",
       "      <th>IN</th>\n",
       "      <td>597</td>\n",
       "    </tr>\n",
       "    <tr>\n",
       "      <th>GB</th>\n",
       "      <td>253</td>\n",
       "    </tr>\n",
       "    <tr>\n",
       "      <th>FR</th>\n",
       "      <td>170</td>\n",
       "    </tr>\n",
       "    <tr>\n",
       "      <th>ES</th>\n",
       "      <td>144</td>\n",
       "    </tr>\n",
       "    <tr>\n",
       "      <th>CA</th>\n",
       "      <td>140</td>\n",
       "    </tr>\n",
       "    <tr>\n",
       "      <th>JP</th>\n",
       "      <td>119</td>\n",
       "    </tr>\n",
       "    <tr>\n",
       "      <th>DE</th>\n",
       "      <td>109</td>\n",
       "    </tr>\n",
       "    <tr>\n",
       "      <th>NG</th>\n",
       "      <td>93</td>\n",
       "    </tr>\n",
       "    <tr>\n",
       "      <th>MX</th>\n",
       "      <td>91</td>\n",
       "    </tr>\n",
       "  </tbody>\n",
       "</table>\n",
       "</div>"
      ],
      "text/plain": [
       "         type\n",
       "country      \n",
       "US       1426\n",
       "IN        597\n",
       "GB        253\n",
       "FR        170\n",
       "ES        144\n",
       "CA        140\n",
       "JP        119\n",
       "DE        109\n",
       "NG         93\n",
       "MX         91"
      ]
     },
     "execution_count": 218,
     "metadata": {},
     "output_type": "execute_result"
    }
   ],
   "source": [
    "movie = netflix['type']=='MOVIE'\n",
    "movie_df=netflix.loc[movie]\n",
    "country_mvi_grp= movie_df.groupby(['country'])\n",
    "top_10_countries_by_movie = country_mvi_grp[['type']].count().nlargest(10,'type')\n",
    "top_10_countries_by_movie"
   ]
  },
  {
   "cell_type": "code",
   "execution_count": 219,
   "id": "3e9e9dc5",
   "metadata": {},
   "outputs": [
    {
     "data": {
      "image/png": "[encoded data removed]",
      "text/plain": [
       "<Figure size 800x550 with 1 Axes>"
      ]
     },
     "metadata": {},
     "output_type": "display_data"
    }
   ],
   "source": [
    "x = top_10_countries_by_movie.index\n",
    "y = top_10_countries_by_movie['type']\n",
    "\n",
    "plt.style.use('fivethirtyeight')\n",
    "plt.bar(x,y,color = '#000000')\n",
    "\n",
    "plt.xlabel('Country')\n",
    "plt.ylabel('Movie')\n",
    "plt.title('Top 10 Countries by number of Movies')\n",
    "plt.tight_layout()\n",
    "plt.show()"
   ]
  },
  {
   "cell_type": "markdown",
   "id": "467469ca",
   "metadata": {},
   "source": [
    "# Top 10 countries by number of shows"
   ]
  },
  {
   "cell_type": "code",
   "execution_count": 220,
   "id": "7d160d31",
   "metadata": {},
   "outputs": [
    {
     "data": {
      "text/html": [
       "<div>\n",
       "<style scoped>\n",
       "    .dataframe tbody tr th:only-of-type {\n",
       "        vertical-align: middle;\n",
       "    }\n",
       "\n",
       "    .dataframe tbody tr th {\n",
       "        vertical-align: top;\n",
       "    }\n",
       "\n",
       "    .dataframe thead th {\n",
       "        text-align: right;\n",
       "    }\n",
       "</style>\n",
       "<table border=\"1\" class=\"dataframe\">\n",
       "  <thead>\n",
       "    <tr style=\"text-align: right;\">\n",
       "      <th></th>\n",
       "      <th>type</th>\n",
       "    </tr>\n",
       "    <tr>\n",
       "      <th>country</th>\n",
       "      <th></th>\n",
       "    </tr>\n",
       "  </thead>\n",
       "  <tbody>\n",
       "    <tr>\n",
       "      <th>US</th>\n",
       "      <td>880</td>\n",
       "    </tr>\n",
       "    <tr>\n",
       "      <th>KR</th>\n",
       "      <td>209</td>\n",
       "    </tr>\n",
       "    <tr>\n",
       "      <th>JP</th>\n",
       "      <td>184</td>\n",
       "    </tr>\n",
       "    <tr>\n",
       "      <th>GB</th>\n",
       "      <td>168</td>\n",
       "    </tr>\n",
       "    <tr>\n",
       "      <th>ES</th>\n",
       "      <td>87</td>\n",
       "    </tr>\n",
       "    <tr>\n",
       "      <th>FR</th>\n",
       "      <td>71</td>\n",
       "    </tr>\n",
       "    <tr>\n",
       "      <th>IN</th>\n",
       "      <td>58</td>\n",
       "    </tr>\n",
       "    <tr>\n",
       "      <th>CA</th>\n",
       "      <td>57</td>\n",
       "    </tr>\n",
       "    <tr>\n",
       "      <th>MX</th>\n",
       "      <td>56</td>\n",
       "    </tr>\n",
       "    <tr>\n",
       "      <th>CN</th>\n",
       "      <td>49</td>\n",
       "    </tr>\n",
       "  </tbody>\n",
       "</table>\n",
       "</div>"
      ],
      "text/plain": [
       "         type\n",
       "country      \n",
       "US        880\n",
       "KR        209\n",
       "JP        184\n",
       "GB        168\n",
       "ES         87\n",
       "FR         71\n",
       "IN         58\n",
       "CA         57\n",
       "MX         56\n",
       "CN         49"
      ]
     },
     "execution_count": 220,
     "metadata": {},
     "output_type": "execute_result"
    }
   ],
   "source": [
    "show = netflix['type']=='SHOW'\n",
    "show_df=netflix.loc[show]\n",
    "country_shw_grp= show_df.groupby(['country'])\n",
    "top_10_countries_by_show = country_shw_grp[['type']].count().nlargest(10,'type')\n",
    "top_10_countries_by_show "
   ]
  },
  {
   "cell_type": "code",
   "execution_count": 221,
   "id": "9c1ad191",
   "metadata": {},
   "outputs": [
    {
     "data": {
      "image/png": "[encoded data removed]",
      "text/plain": [
       "<Figure size 800x550 with 1 Axes>"
      ]
     },
     "metadata": {},
     "output_type": "display_data"
    }
   ],
   "source": [
    "x = top_10_countries_by_show.index\n",
    "y = top_10_countries_by_show['type']\n",
    "\n",
    "plt.style.use('fivethirtyeight')\n",
    "plt.bar(x,y,color = '#E50914')\n",
    "\n",
    "plt.xlabel('Country')\n",
    "plt.ylabel('Shows')\n",
    "plt.title('Top 10 Countries by number of Shows')\n",
    "plt.tight_layout()\n",
    "plt.show()"
   ]
  },
  {
   "cell_type": "markdown",
   "id": "e3b376e6",
   "metadata": {},
   "source": [
    "# Total Movie and Show trends over Year"
   ]
  },
  {
   "cell_type": "code",
   "execution_count": 222,
   "id": "3772e0b0",
   "metadata": {},
   "outputs": [
    {
     "data": {
      "image/png": "[encoded data removed]",
      "text/plain": [
       "<Figure size 800x550 with 1 Axes>"
      ]
     },
     "metadata": {},
     "output_type": "display_data"
    }
   ],
   "source": [
    "plt.style.use('fivethirtyeight')\n",
    "\n",
    "movie_filt = netflix['type']== 'MOVIE'\n",
    "show_filt = netflix['type']== 'SHOW'\n",
    "\n",
    "movie_df = netflix.loc[movie_filt].groupby('release_year')['type'].count().reset_index()\n",
    "show_df = netflix.loc[show_filt].groupby('release_year')['type'].count().reset_index()\n",
    "\n",
    "df = movie_df.merge(show_df, on = 'release_year', how='outer')\n",
    "df.columns = ['Year', 'Movie', 'Show']\n",
    "df.fillna(0, inplace=True)\n",
    "df = df.sort_values(by='Year')\n",
    "\n",
    "plt.plot(df['Year'],df['Movie'], label='Movie',linewidth=2, color='#E50914')\n",
    "plt.plot(df['Year'],df['Show'], label = 'Show', linewidth=2,color='#000000')\n",
    "plt.xlabel('Year')\n",
    "plt.ylabel('Movie & Show')\n",
    "plt.title('Movie & Show trends over Years')\n",
    "plt.legend(fontsize='20')\n",
    "plt.show()"
   ]
  },
  {
   "cell_type": "markdown",
   "id": "464ad52c",
   "metadata": {},
   "source": [
    "# Top imdb rated movie"
   ]
  },
  {
   "cell_type": "code",
   "execution_count": 223,
   "id": "3f43259f",
   "metadata": {},
   "outputs": [
    {
     "data": {
      "text/html": [
       "<div>\n",
       "<style scoped>\n",
       "    .dataframe tbody tr th:only-of-type {\n",
       "        vertical-align: middle;\n",
       "    }\n",
       "\n",
       "    .dataframe tbody tr th {\n",
       "        vertical-align: top;\n",
       "    }\n",
       "\n",
       "    .dataframe thead th {\n",
       "        text-align: right;\n",
       "    }\n",
       "</style>\n",
       "<table border=\"1\" class=\"dataframe\">\n",
       "  <thead>\n",
       "    <tr style=\"text-align: right;\">\n",
       "      <th></th>\n",
       "      <th>imdb_score</th>\n",
       "    </tr>\n",
       "    <tr>\n",
       "      <th>type</th>\n",
       "      <th></th>\n",
       "    </tr>\n",
       "  </thead>\n",
       "  <tbody>\n",
       "    <tr>\n",
       "      <th>MOVIE</th>\n",
       "      <td>9.0</td>\n",
       "    </tr>\n",
       "    <tr>\n",
       "      <th>SHOW</th>\n",
       "      <td>9.6</td>\n",
       "    </tr>\n",
       "  </tbody>\n",
       "</table>\n",
       "</div>"
      ],
      "text/plain": [
       "       imdb_score\n",
       "type             \n",
       "MOVIE         9.0\n",
       "SHOW          9.6"
      ]
     },
     "execution_count": 223,
     "metadata": {},
     "output_type": "execute_result"
    }
   ],
   "source": [
    "grp = netflix.groupby(['type'])\n",
    "grp[['imdb_score']].max()"
   ]
  },
  {
   "cell_type": "code",
   "execution_count": 224,
   "id": "f21657b0",
   "metadata": {},
   "outputs": [
    {
     "data": {
      "text/html": [
       "<div>\n",
       "<style scoped>\n",
       "    .dataframe tbody tr th:only-of-type {\n",
       "        vertical-align: middle;\n",
       "    }\n",
       "\n",
       "    .dataframe tbody tr th {\n",
       "        vertical-align: top;\n",
       "    }\n",
       "\n",
       "    .dataframe thead th {\n",
       "        text-align: right;\n",
       "    }\n",
       "</style>\n",
       "<table border=\"1\" class=\"dataframe\">\n",
       "  <thead>\n",
       "    <tr style=\"text-align: right;\">\n",
       "      <th></th>\n",
       "      <th>id</th>\n",
       "      <th>title</th>\n",
       "      <th>type</th>\n",
       "      <th>description</th>\n",
       "      <th>release_year</th>\n",
       "      <th>age_certification</th>\n",
       "      <th>runtime</th>\n",
       "      <th>genres</th>\n",
       "      <th>country</th>\n",
       "      <th>seasons</th>\n",
       "      <th>imdb_id</th>\n",
       "      <th>imdb_score</th>\n",
       "      <th>imdb_votes</th>\n",
       "      <th>tmdb_popularity</th>\n",
       "      <th>tmdb_score</th>\n",
       "    </tr>\n",
       "  </thead>\n",
       "  <tbody>\n",
       "    <tr>\n",
       "      <th>242</th>\n",
       "      <td>tm56184</td>\n",
       "      <td>The Dark Knight</td>\n",
       "      <td>MOVIE</td>\n",
       "      <td>Batman raises the stakes in his war on crime. ...</td>\n",
       "      <td>2008</td>\n",
       "      <td>PG-13</td>\n",
       "      <td>152</td>\n",
       "      <td>drama, thriller, action, crime</td>\n",
       "      <td>GB</td>\n",
       "      <td>NaN</td>\n",
       "      <td>tt0468569</td>\n",
       "      <td>9.0</td>\n",
       "      <td>2684317.0</td>\n",
       "      <td>81.703</td>\n",
       "      <td>8.508</td>\n",
       "    </tr>\n",
       "    <tr>\n",
       "      <th>243</th>\n",
       "      <td>tm56184</td>\n",
       "      <td>The Dark Knight</td>\n",
       "      <td>MOVIE</td>\n",
       "      <td>Batman raises the stakes in his war on crime. ...</td>\n",
       "      <td>2008</td>\n",
       "      <td>PG-13</td>\n",
       "      <td>152</td>\n",
       "      <td>drama, thriller, action, crime</td>\n",
       "      <td>US</td>\n",
       "      <td>NaN</td>\n",
       "      <td>tt0468569</td>\n",
       "      <td>9.0</td>\n",
       "      <td>2684317.0</td>\n",
       "      <td>81.703</td>\n",
       "      <td>8.508</td>\n",
       "    </tr>\n",
       "    <tr>\n",
       "      <th>253</th>\n",
       "      <td>tm142381</td>\n",
       "      <td>The Lord of the Rings: The Return of the King</td>\n",
       "      <td>MOVIE</td>\n",
       "      <td>Aragorn is revealed as the heir to the ancient...</td>\n",
       "      <td>2003</td>\n",
       "      <td>PG-13</td>\n",
       "      <td>201</td>\n",
       "      <td>fantasy, action, drama</td>\n",
       "      <td>NZ</td>\n",
       "      <td>NaN</td>\n",
       "      <td>tt0167260</td>\n",
       "      <td>9.0</td>\n",
       "      <td>1865989.0</td>\n",
       "      <td>83.617</td>\n",
       "      <td>8.474</td>\n",
       "    </tr>\n",
       "    <tr>\n",
       "      <th>254</th>\n",
       "      <td>tm142381</td>\n",
       "      <td>The Lord of the Rings: The Return of the King</td>\n",
       "      <td>MOVIE</td>\n",
       "      <td>Aragorn is revealed as the heir to the ancient...</td>\n",
       "      <td>2003</td>\n",
       "      <td>PG-13</td>\n",
       "      <td>201</td>\n",
       "      <td>fantasy, action, drama</td>\n",
       "      <td>US</td>\n",
       "      <td>NaN</td>\n",
       "      <td>tt0167260</td>\n",
       "      <td>9.0</td>\n",
       "      <td>1865989.0</td>\n",
       "      <td>83.617</td>\n",
       "      <td>8.474</td>\n",
       "    </tr>\n",
       "  </tbody>\n",
       "</table>\n",
       "</div>"
      ],
      "text/plain": [
       "           id                                          title   type  \\\n",
       "242   tm56184                                The Dark Knight  MOVIE   \n",
       "243   tm56184                                The Dark Knight  MOVIE   \n",
       "253  tm142381  The Lord of the Rings: The Return of the King  MOVIE   \n",
       "254  tm142381  The Lord of the Rings: The Return of the King  MOVIE   \n",
       "\n",
       "                                           description  release_year  \\\n",
       "242  Batman raises the stakes in his war on crime. ...          2008   \n",
       "243  Batman raises the stakes in his war on crime. ...          2008   \n",
       "253  Aragorn is revealed as the heir to the ancient...          2003   \n",
       "254  Aragorn is revealed as the heir to the ancient...          2003   \n",
       "\n",
       "    age_certification  runtime                          genres country  \\\n",
       "242             PG-13      152  drama, thriller, action, crime      GB   \n",
       "243             PG-13      152  drama, thriller, action, crime      US   \n",
       "253             PG-13      201          fantasy, action, drama      NZ   \n",
       "254             PG-13      201          fantasy, action, drama      US   \n",
       "\n",
       "     seasons    imdb_id  imdb_score  imdb_votes  tmdb_popularity  tmdb_score  \n",
       "242      NaN  tt0468569         9.0   2684317.0           81.703       8.508  \n",
       "243      NaN  tt0468569         9.0   2684317.0           81.703       8.508  \n",
       "253      NaN  tt0167260         9.0   1865989.0           83.617       8.474  \n",
       "254      NaN  tt0167260         9.0   1865989.0           83.617       8.474  "
      ]
     },
     "execution_count": 224,
     "metadata": {},
     "output_type": "execute_result"
    }
   ],
   "source": [
    "top_imdb_rate_movie = (netflix['imdb_score']==9.0) & (netflix['type']=='MOVIE')\n",
    "netflix.loc[top_imdb_rate_movie]"
   ]
  },
  {
   "cell_type": "markdown",
   "id": "0240a992",
   "metadata": {},
   "source": [
    "# Top imdb rated show"
   ]
  },
  {
   "cell_type": "code",
   "execution_count": 225,
   "id": "cfcb7a0f",
   "metadata": {},
   "outputs": [
    {
     "data": {
      "text/html": [
       "<div>\n",
       "<style scoped>\n",
       "    .dataframe tbody tr th:only-of-type {\n",
       "        vertical-align: middle;\n",
       "    }\n",
       "\n",
       "    .dataframe tbody tr th {\n",
       "        vertical-align: top;\n",
       "    }\n",
       "\n",
       "    .dataframe thead th {\n",
       "        text-align: right;\n",
       "    }\n",
       "</style>\n",
       "<table border=\"1\" class=\"dataframe\">\n",
       "  <thead>\n",
       "    <tr style=\"text-align: right;\">\n",
       "      <th></th>\n",
       "      <th>id</th>\n",
       "      <th>title</th>\n",
       "      <th>type</th>\n",
       "      <th>description</th>\n",
       "      <th>release_year</th>\n",
       "      <th>age_certification</th>\n",
       "      <th>runtime</th>\n",
       "      <th>genres</th>\n",
       "      <th>country</th>\n",
       "      <th>seasons</th>\n",
       "      <th>imdb_id</th>\n",
       "      <th>imdb_score</th>\n",
       "      <th>imdb_votes</th>\n",
       "      <th>tmdb_popularity</th>\n",
       "      <th>tmdb_score</th>\n",
       "    </tr>\n",
       "  </thead>\n",
       "  <tbody>\n",
       "    <tr>\n",
       "      <th>2774</th>\n",
       "      <td>ts116101</td>\n",
       "      <td>Crazy Delicious</td>\n",
       "      <td>SHOW</td>\n",
       "      <td>Everyday meals are turned into extraordinary c...</td>\n",
       "      <td>2017</td>\n",
       "      <td>NaN</td>\n",
       "      <td>47</td>\n",
       "      <td>reality</td>\n",
       "      <td>GB</td>\n",
       "      <td>1.0</td>\n",
       "      <td>tt7626160</td>\n",
       "      <td>9.6</td>\n",
       "      <td>14.0</td>\n",
       "      <td>2.128</td>\n",
       "      <td>7.5</td>\n",
       "    </tr>\n",
       "  </tbody>\n",
       "</table>\n",
       "</div>"
      ],
      "text/plain": [
       "            id            title  type  \\\n",
       "2774  ts116101  Crazy Delicious  SHOW   \n",
       "\n",
       "                                            description  release_year  \\\n",
       "2774  Everyday meals are turned into extraordinary c...          2017   \n",
       "\n",
       "     age_certification  runtime   genres country  seasons    imdb_id  \\\n",
       "2774               NaN       47  reality      GB      1.0  tt7626160   \n",
       "\n",
       "      imdb_score  imdb_votes  tmdb_popularity  tmdb_score  \n",
       "2774         9.6        14.0            2.128         7.5  "
      ]
     },
     "execution_count": 225,
     "metadata": {},
     "output_type": "execute_result"
    }
   ],
   "source": [
    "top_imdb_rate_show = (netflix['imdb_score']==9.6) & (netflix['type']=='SHOW')\n",
    "netflix.loc[top_imdb_rate_show]"
   ]
  },
  {
   "cell_type": "markdown",
   "id": "18e82d5d",
   "metadata": {},
   "source": [
    "# Total number of each Genres"
   ]
  },
  {
   "cell_type": "code",
   "execution_count": 226,
   "id": "8bf8a48e",
   "metadata": {},
   "outputs": [],
   "source": [
    "drp_duplicate_row = netflix.drop_duplicates(subset='id', keep=\"first\", inplace=False)"
   ]
  },
  {
   "cell_type": "code",
   "execution_count": 227,
   "id": "e5204e36",
   "metadata": {},
   "outputs": [],
   "source": [
    "new_df = pd.DataFrame(drp_duplicate_row['genres'])\n",
    "new_df['genres'] = new_df['genres'].str.split()\n",
    "new_df = new_df.explode('genres')\n",
    "new_df['genres'] = new_df['genres'].str.replace(',','')\n",
    "new_df = new_df.value_counts().reset_index()\n",
    "new_df.columns = ['Genres','Number of contents']\n",
    "new_df = new_df.sort_values(by=['Number of contents'], ascending=False)\n",
    "\n"
   ]
  },
  {
   "cell_type": "code",
   "execution_count": 228,
   "id": "ede93f31",
   "metadata": {},
   "outputs": [
    {
     "data": {
      "image/png": "[encoded data removed]",
      "text/plain": [
       "<Figure size 800x550 with 1 Axes>"
      ]
     },
     "metadata": {},
     "output_type": "display_data"
    }
   ],
   "source": [
    "plt.style.use('fivethirtyeight')\n",
    "plt.barh(new_df['Genres'],new_df['Number of contents'])\n",
    "plt.title('Number of Genres')\n",
    "plt.xlabel('Number of Contents')\n",
    "plt.tight_layout()\n",
    "plt.show()"
   ]
  },
  {
   "cell_type": "markdown",
   "id": "80a99f22",
   "metadata": {},
   "source": [
    "# Max runtime movie in minutes"
   ]
  },
  {
   "cell_type": "code",
   "execution_count": 229,
   "id": "d23d1664",
   "metadata": {},
   "outputs": [
    {
     "data": {
      "text/html": [
       "<div>\n",
       "<style scoped>\n",
       "    .dataframe tbody tr th:only-of-type {\n",
       "        vertical-align: middle;\n",
       "    }\n",
       "\n",
       "    .dataframe tbody tr th {\n",
       "        vertical-align: top;\n",
       "    }\n",
       "\n",
       "    .dataframe thead th {\n",
       "        text-align: right;\n",
       "    }\n",
       "</style>\n",
       "<table border=\"1\" class=\"dataframe\">\n",
       "  <thead>\n",
       "    <tr style=\"text-align: right;\">\n",
       "      <th></th>\n",
       "      <th>id</th>\n",
       "      <th>title</th>\n",
       "      <th>type</th>\n",
       "      <th>description</th>\n",
       "      <th>release_year</th>\n",
       "      <th>age_certification</th>\n",
       "      <th>runtime</th>\n",
       "      <th>genres</th>\n",
       "      <th>country</th>\n",
       "      <th>seasons</th>\n",
       "      <th>imdb_id</th>\n",
       "      <th>imdb_score</th>\n",
       "      <th>imdb_votes</th>\n",
       "      <th>tmdb_popularity</th>\n",
       "      <th>tmdb_score</th>\n",
       "    </tr>\n",
       "  </thead>\n",
       "  <tbody>\n",
       "    <tr>\n",
       "      <th>599</th>\n",
       "      <td>tm25842</td>\n",
       "      <td>A Lion in the House</td>\n",
       "      <td>MOVIE</td>\n",
       "      <td>Five families struggle with the ups and downs ...</td>\n",
       "      <td>2006</td>\n",
       "      <td>NaN</td>\n",
       "      <td>225</td>\n",
       "      <td>documentation</td>\n",
       "      <td>US</td>\n",
       "      <td>NaN</td>\n",
       "      <td>tt0492472</td>\n",
       "      <td>8.7</td>\n",
       "      <td>338.0</td>\n",
       "      <td>2.821</td>\n",
       "      <td>6.5</td>\n",
       "    </tr>\n",
       "  </tbody>\n",
       "</table>\n",
       "</div>"
      ],
      "text/plain": [
       "          id                title   type  \\\n",
       "599  tm25842  A Lion in the House  MOVIE   \n",
       "\n",
       "                                           description  release_year  \\\n",
       "599  Five families struggle with the ups and downs ...          2006   \n",
       "\n",
       "    age_certification  runtime         genres country  seasons    imdb_id  \\\n",
       "599               NaN      225  documentation      US      NaN  tt0492472   \n",
       "\n",
       "     imdb_score  imdb_votes  tmdb_popularity  tmdb_score  \n",
       "599         8.7       338.0            2.821         6.5  "
      ]
     },
     "execution_count": 229,
     "metadata": {},
     "output_type": "execute_result"
    }
   ],
   "source": [
    "movie = netflix['type']=='MOVIE'\n",
    "netflix.loc[movie].sort_values(by='runtime',ascending=False).head(1)"
   ]
  },
  {
   "cell_type": "markdown",
   "id": "b2bfbcf5",
   "metadata": {},
   "source": [
    "# Show with max seasons in minutes"
   ]
  },
  {
   "cell_type": "code",
   "execution_count": 230,
   "id": "2b6a0d9d",
   "metadata": {},
   "outputs": [
    {
     "data": {
      "text/html": [
       "<div>\n",
       "<style scoped>\n",
       "    .dataframe tbody tr th:only-of-type {\n",
       "        vertical-align: middle;\n",
       "    }\n",
       "\n",
       "    .dataframe tbody tr th {\n",
       "        vertical-align: top;\n",
       "    }\n",
       "\n",
       "    .dataframe thead th {\n",
       "        text-align: right;\n",
       "    }\n",
       "</style>\n",
       "<table border=\"1\" class=\"dataframe\">\n",
       "  <thead>\n",
       "    <tr style=\"text-align: right;\">\n",
       "      <th></th>\n",
       "      <th>id</th>\n",
       "      <th>title</th>\n",
       "      <th>type</th>\n",
       "      <th>description</th>\n",
       "      <th>release_year</th>\n",
       "      <th>age_certification</th>\n",
       "      <th>runtime</th>\n",
       "      <th>genres</th>\n",
       "      <th>country</th>\n",
       "      <th>seasons</th>\n",
       "      <th>imdb_id</th>\n",
       "      <th>imdb_score</th>\n",
       "      <th>imdb_votes</th>\n",
       "      <th>tmdb_popularity</th>\n",
       "      <th>tmdb_score</th>\n",
       "    </tr>\n",
       "  </thead>\n",
       "  <tbody>\n",
       "    <tr>\n",
       "      <th>91</th>\n",
       "      <td>ts20981</td>\n",
       "      <td>Survivor</td>\n",
       "      <td>SHOW</td>\n",
       "      <td>A reality show contest where sixteen or more c...</td>\n",
       "      <td>2000</td>\n",
       "      <td>NaN</td>\n",
       "      <td>48</td>\n",
       "      <td>reality</td>\n",
       "      <td>US</td>\n",
       "      <td>44.0</td>\n",
       "      <td>tt0760143</td>\n",
       "      <td>7.5</td>\n",
       "      <td>25709.0</td>\n",
       "      <td>66.565</td>\n",
       "      <td>7.426</td>\n",
       "    </tr>\n",
       "  </tbody>\n",
       "</table>\n",
       "</div>"
      ],
      "text/plain": [
       "         id     title  type  \\\n",
       "91  ts20981  Survivor  SHOW   \n",
       "\n",
       "                                          description  release_year  \\\n",
       "91  A reality show contest where sixteen or more c...          2000   \n",
       "\n",
       "   age_certification  runtime   genres country  seasons    imdb_id  \\\n",
       "91               NaN       48  reality      US     44.0  tt0760143   \n",
       "\n",
       "    imdb_score  imdb_votes  tmdb_popularity  tmdb_score  \n",
       "91         7.5     25709.0           66.565       7.426  "
      ]
     },
     "execution_count": 230,
     "metadata": {},
     "output_type": "execute_result"
    }
   ],
   "source": [
    "show = netflix['type']=='SHOW'\n",
    "netflix.loc[show].sort_values(by='seasons',ascending=False).head(1)"
   ]
  },
  {
   "cell_type": "markdown",
   "id": "846dec77",
   "metadata": {},
   "source": [
    "# Top 10 Actors by number of contents"
   ]
  },
  {
   "cell_type": "code",
   "execution_count": 231,
   "id": "993320fe",
   "metadata": {},
   "outputs": [
    {
     "data": {
      "text/html": [
       "<div>\n",
       "<style scoped>\n",
       "    .dataframe tbody tr th:only-of-type {\n",
       "        vertical-align: middle;\n",
       "    }\n",
       "\n",
       "    .dataframe tbody tr th {\n",
       "        vertical-align: top;\n",
       "    }\n",
       "\n",
       "    .dataframe thead th {\n",
       "        text-align: right;\n",
       "    }\n",
       "</style>\n",
       "<table border=\"1\" class=\"dataframe\">\n",
       "  <thead>\n",
       "    <tr style=\"text-align: right;\">\n",
       "      <th></th>\n",
       "      <th>role</th>\n",
       "    </tr>\n",
       "    <tr>\n",
       "      <th>name</th>\n",
       "      <th></th>\n",
       "    </tr>\n",
       "  </thead>\n",
       "  <tbody>\n",
       "    <tr>\n",
       "      <th>Shah Rukh Khan</th>\n",
       "      <td>38</td>\n",
       "    </tr>\n",
       "    <tr>\n",
       "      <th>Boman Irani</th>\n",
       "      <td>24</td>\n",
       "    </tr>\n",
       "    <tr>\n",
       "      <th>Anupam Kher</th>\n",
       "      <td>23</td>\n",
       "    </tr>\n",
       "    <tr>\n",
       "      <th>Fred Tatasciore</th>\n",
       "      <td>21</td>\n",
       "    </tr>\n",
       "    <tr>\n",
       "      <th>Kareena Kapoor Khan</th>\n",
       "      <td>21</td>\n",
       "    </tr>\n",
       "    <tr>\n",
       "      <th>Aamir Khan</th>\n",
       "      <td>20</td>\n",
       "    </tr>\n",
       "    <tr>\n",
       "      <th>Kari Wahlgren</th>\n",
       "      <td>20</td>\n",
       "    </tr>\n",
       "    <tr>\n",
       "      <th>Naseeruddin Shah</th>\n",
       "      <td>19</td>\n",
       "    </tr>\n",
       "    <tr>\n",
       "      <th>Yuki Kaji</th>\n",
       "      <td>19</td>\n",
       "    </tr>\n",
       "    <tr>\n",
       "      <th>Kenjiro Tsuda</th>\n",
       "      <td>19</td>\n",
       "    </tr>\n",
       "  </tbody>\n",
       "</table>\n",
       "</div>"
      ],
      "text/plain": [
       "                     role\n",
       "name                     \n",
       "Shah Rukh Khan         38\n",
       "Boman Irani            24\n",
       "Anupam Kher            23\n",
       "Fred Tatasciore        21\n",
       "Kareena Kapoor Khan    21\n",
       "Aamir Khan             20\n",
       "Kari Wahlgren          20\n",
       "Naseeruddin Shah       19\n",
       "Yuki Kaji              19\n",
       "Kenjiro Tsuda          19"
      ]
     },
     "execution_count": 231,
     "metadata": {},
     "output_type": "execute_result"
    }
   ],
   "source": [
    "actor = credits.query(\"role == 'ACTOR'\")\n",
    "\n",
    "actor.groupby(['name'])[['role']].count().sort_values(by='role', ascending=False).head(10)"
   ]
  },
  {
   "cell_type": "markdown",
   "id": "67114740",
   "metadata": {},
   "source": [
    "# Top 10 Directors by number of contents"
   ]
  },
  {
   "cell_type": "code",
   "execution_count": 232,
   "id": "78503122",
   "metadata": {},
   "outputs": [
    {
     "data": {
      "text/html": [
       "<div>\n",
       "<style scoped>\n",
       "    .dataframe tbody tr th:only-of-type {\n",
       "        vertical-align: middle;\n",
       "    }\n",
       "\n",
       "    .dataframe tbody tr th {\n",
       "        vertical-align: top;\n",
       "    }\n",
       "\n",
       "    .dataframe thead th {\n",
       "        text-align: right;\n",
       "    }\n",
       "</style>\n",
       "<table border=\"1\" class=\"dataframe\">\n",
       "  <thead>\n",
       "    <tr style=\"text-align: right;\">\n",
       "      <th></th>\n",
       "      <th>role</th>\n",
       "    </tr>\n",
       "    <tr>\n",
       "      <th>name</th>\n",
       "      <th></th>\n",
       "    </tr>\n",
       "  </thead>\n",
       "  <tbody>\n",
       "    <tr>\n",
       "      <th>Raúl Campos</th>\n",
       "      <td>20</td>\n",
       "    </tr>\n",
       "    <tr>\n",
       "      <th>Jan Suter</th>\n",
       "      <td>19</td>\n",
       "    </tr>\n",
       "    <tr>\n",
       "      <th>Ryan Polito</th>\n",
       "      <td>17</td>\n",
       "    </tr>\n",
       "    <tr>\n",
       "      <th>Jay Karas</th>\n",
       "      <td>15</td>\n",
       "    </tr>\n",
       "    <tr>\n",
       "      <th>Marcus Raboy</th>\n",
       "      <td>15</td>\n",
       "    </tr>\n",
       "    <tr>\n",
       "      <th>Cathy Garcia-Molina</th>\n",
       "      <td>12</td>\n",
       "    </tr>\n",
       "    <tr>\n",
       "      <th>Youssef Chahine</th>\n",
       "      <td>12</td>\n",
       "    </tr>\n",
       "    <tr>\n",
       "      <th>Suhas Kadav</th>\n",
       "      <td>11</td>\n",
       "    </tr>\n",
       "    <tr>\n",
       "      <th>Jay Chapman</th>\n",
       "      <td>10</td>\n",
       "    </tr>\n",
       "    <tr>\n",
       "      <th>Kunle Afolayan</th>\n",
       "      <td>9</td>\n",
       "    </tr>\n",
       "  </tbody>\n",
       "</table>\n",
       "</div>"
      ],
      "text/plain": [
       "                     role\n",
       "name                     \n",
       "Raúl Campos            20\n",
       "Jan Suter              19\n",
       "Ryan Polito            17\n",
       "Jay Karas              15\n",
       "Marcus Raboy           15\n",
       "Cathy Garcia-Molina    12\n",
       "Youssef Chahine        12\n",
       "Suhas Kadav            11\n",
       "Jay Chapman            10\n",
       "Kunle Afolayan          9"
      ]
     },
     "execution_count": 232,
     "metadata": {},
     "output_type": "execute_result"
    }
   ],
   "source": [
    "director = credits.query(\"role == 'DIRECTOR'\")\n",
    "\n",
    "director.groupby(['name'])[['role']].count().sort_values(by='role', ascending=False).head(10)"
   ]
  },
  {
   "cell_type": "markdown",
   "id": "f064ef0d",
   "metadata": {},
   "source": [
    "# Top imdb rating holding movie/show maker"
   ]
  },
  {
   "cell_type": "code",
   "execution_count": 233,
   "id": "ab8022bd",
   "metadata": {},
   "outputs": [
    {
     "data": {
      "text/html": [
       "<div>\n",
       "<style scoped>\n",
       "    .dataframe tbody tr th:only-of-type {\n",
       "        vertical-align: middle;\n",
       "    }\n",
       "\n",
       "    .dataframe tbody tr th {\n",
       "        vertical-align: top;\n",
       "    }\n",
       "\n",
       "    .dataframe thead th {\n",
       "        text-align: right;\n",
       "    }\n",
       "</style>\n",
       "<table border=\"1\" class=\"dataframe\">\n",
       "  <thead>\n",
       "    <tr style=\"text-align: right;\">\n",
       "      <th></th>\n",
       "      <th>id</th>\n",
       "      <th>person_id</th>\n",
       "      <th>name</th>\n",
       "      <th>role</th>\n",
       "      <th>title</th>\n",
       "      <th>type</th>\n",
       "      <th>imdb_id</th>\n",
       "      <th>imdb_score</th>\n",
       "      <th>imdb_votes</th>\n",
       "      <th>tmdb_popularity</th>\n",
       "      <th>tmdb_score</th>\n",
       "    </tr>\n",
       "  </thead>\n",
       "  <tbody>\n",
       "    <tr>\n",
       "      <th>0</th>\n",
       "      <td>tm82169</td>\n",
       "      <td>3180</td>\n",
       "      <td>Sylvester Stallone</td>\n",
       "      <td>ACTOR</td>\n",
       "      <td>Rocky</td>\n",
       "      <td>MOVIE</td>\n",
       "      <td>tt0075148</td>\n",
       "      <td>8.1</td>\n",
       "      <td>588100.0</td>\n",
       "      <td>106.361</td>\n",
       "      <td>7.782</td>\n",
       "    </tr>\n",
       "    <tr>\n",
       "      <th>1</th>\n",
       "      <td>tm82169</td>\n",
       "      <td>7748</td>\n",
       "      <td>Talia Shire</td>\n",
       "      <td>ACTOR</td>\n",
       "      <td>Rocky</td>\n",
       "      <td>MOVIE</td>\n",
       "      <td>tt0075148</td>\n",
       "      <td>8.1</td>\n",
       "      <td>588100.0</td>\n",
       "      <td>106.361</td>\n",
       "      <td>7.782</td>\n",
       "    </tr>\n",
       "    <tr>\n",
       "      <th>2</th>\n",
       "      <td>tm82169</td>\n",
       "      <td>7749</td>\n",
       "      <td>Burt Young</td>\n",
       "      <td>ACTOR</td>\n",
       "      <td>Rocky</td>\n",
       "      <td>MOVIE</td>\n",
       "      <td>tt0075148</td>\n",
       "      <td>8.1</td>\n",
       "      <td>588100.0</td>\n",
       "      <td>106.361</td>\n",
       "      <td>7.782</td>\n",
       "    </tr>\n",
       "    <tr>\n",
       "      <th>3</th>\n",
       "      <td>tm82169</td>\n",
       "      <td>7750</td>\n",
       "      <td>Carl Weathers</td>\n",
       "      <td>ACTOR</td>\n",
       "      <td>Rocky</td>\n",
       "      <td>MOVIE</td>\n",
       "      <td>tt0075148</td>\n",
       "      <td>8.1</td>\n",
       "      <td>588100.0</td>\n",
       "      <td>106.361</td>\n",
       "      <td>7.782</td>\n",
       "    </tr>\n",
       "    <tr>\n",
       "      <th>4</th>\n",
       "      <td>tm82169</td>\n",
       "      <td>7751</td>\n",
       "      <td>Burgess Meredith</td>\n",
       "      <td>ACTOR</td>\n",
       "      <td>Rocky</td>\n",
       "      <td>MOVIE</td>\n",
       "      <td>tt0075148</td>\n",
       "      <td>8.1</td>\n",
       "      <td>588100.0</td>\n",
       "      <td>106.361</td>\n",
       "      <td>7.782</td>\n",
       "    </tr>\n",
       "    <tr>\n",
       "      <th>...</th>\n",
       "      <td>...</td>\n",
       "      <td>...</td>\n",
       "      <td>...</td>\n",
       "      <td>...</td>\n",
       "      <td>...</td>\n",
       "      <td>...</td>\n",
       "      <td>...</td>\n",
       "      <td>...</td>\n",
       "      <td>...</td>\n",
       "      <td>...</td>\n",
       "      <td>...</td>\n",
       "    </tr>\n",
       "    <tr>\n",
       "      <th>98988</th>\n",
       "      <td>tm1072700</td>\n",
       "      <td>449518</td>\n",
       "      <td>Kayode Olaiya</td>\n",
       "      <td>ACTOR</td>\n",
       "      <td>All Na Vibes</td>\n",
       "      <td>MOVIE</td>\n",
       "      <td>tt14922926</td>\n",
       "      <td>5.2</td>\n",
       "      <td>18.0</td>\n",
       "      <td>1.357</td>\n",
       "      <td>4.000</td>\n",
       "    </tr>\n",
       "    <tr>\n",
       "      <th>98989</th>\n",
       "      <td>tm1072700</td>\n",
       "      <td>2722717</td>\n",
       "      <td>Tolu Osaile</td>\n",
       "      <td>ACTOR</td>\n",
       "      <td>All Na Vibes</td>\n",
       "      <td>MOVIE</td>\n",
       "      <td>tt14922926</td>\n",
       "      <td>5.2</td>\n",
       "      <td>18.0</td>\n",
       "      <td>1.357</td>\n",
       "      <td>4.000</td>\n",
       "    </tr>\n",
       "    <tr>\n",
       "      <th>98990</th>\n",
       "      <td>tm1072700</td>\n",
       "      <td>2722797</td>\n",
       "      <td>Eniola Oyetola</td>\n",
       "      <td>ACTOR</td>\n",
       "      <td>All Na Vibes</td>\n",
       "      <td>MOVIE</td>\n",
       "      <td>tt14922926</td>\n",
       "      <td>5.2</td>\n",
       "      <td>18.0</td>\n",
       "      <td>1.357</td>\n",
       "      <td>4.000</td>\n",
       "    </tr>\n",
       "    <tr>\n",
       "      <th>98991</th>\n",
       "      <td>tm1072700</td>\n",
       "      <td>866314</td>\n",
       "      <td>Tope Tedela</td>\n",
       "      <td>ACTOR</td>\n",
       "      <td>All Na Vibes</td>\n",
       "      <td>MOVIE</td>\n",
       "      <td>tt14922926</td>\n",
       "      <td>5.2</td>\n",
       "      <td>18.0</td>\n",
       "      <td>1.357</td>\n",
       "      <td>4.000</td>\n",
       "    </tr>\n",
       "    <tr>\n",
       "      <th>98992</th>\n",
       "      <td>tm1072700</td>\n",
       "      <td>1807691</td>\n",
       "      <td>Taiwo Egunjobi</td>\n",
       "      <td>DIRECTOR</td>\n",
       "      <td>All Na Vibes</td>\n",
       "      <td>MOVIE</td>\n",
       "      <td>tt14922926</td>\n",
       "      <td>5.2</td>\n",
       "      <td>18.0</td>\n",
       "      <td>1.357</td>\n",
       "      <td>4.000</td>\n",
       "    </tr>\n",
       "  </tbody>\n",
       "</table>\n",
       "<p>98993 rows × 11 columns</p>\n",
       "</div>"
      ],
      "text/plain": [
       "              id  person_id                name      role         title  \\\n",
       "0        tm82169       3180  Sylvester Stallone     ACTOR         Rocky   \n",
       "1        tm82169       7748         Talia Shire     ACTOR         Rocky   \n",
       "2        tm82169       7749          Burt Young     ACTOR         Rocky   \n",
       "3        tm82169       7750       Carl Weathers     ACTOR         Rocky   \n",
       "4        tm82169       7751    Burgess Meredith     ACTOR         Rocky   \n",
       "...          ...        ...                 ...       ...           ...   \n",
       "98988  tm1072700     449518       Kayode Olaiya     ACTOR  All Na Vibes   \n",
       "98989  tm1072700    2722717         Tolu Osaile     ACTOR  All Na Vibes   \n",
       "98990  tm1072700    2722797      Eniola Oyetola     ACTOR  All Na Vibes   \n",
       "98991  tm1072700     866314         Tope Tedela     ACTOR  All Na Vibes   \n",
       "98992  tm1072700    1807691      Taiwo Egunjobi  DIRECTOR  All Na Vibes   \n",
       "\n",
       "        type     imdb_id  imdb_score  imdb_votes  tmdb_popularity  tmdb_score  \n",
       "0      MOVIE   tt0075148         8.1    588100.0          106.361       7.782  \n",
       "1      MOVIE   tt0075148         8.1    588100.0          106.361       7.782  \n",
       "2      MOVIE   tt0075148         8.1    588100.0          106.361       7.782  \n",
       "3      MOVIE   tt0075148         8.1    588100.0          106.361       7.782  \n",
       "4      MOVIE   tt0075148         8.1    588100.0          106.361       7.782  \n",
       "...      ...         ...         ...         ...              ...         ...  \n",
       "98988  MOVIE  tt14922926         5.2        18.0            1.357       4.000  \n",
       "98989  MOVIE  tt14922926         5.2        18.0            1.357       4.000  \n",
       "98990  MOVIE  tt14922926         5.2        18.0            1.357       4.000  \n",
       "98991  MOVIE  tt14922926         5.2        18.0            1.357       4.000  \n",
       "98992  MOVIE  tt14922926         5.2        18.0            1.357       4.000  \n",
       "\n",
       "[98993 rows x 11 columns]"
      ]
     },
     "execution_count": 233,
     "metadata": {},
     "output_type": "execute_result"
    }
   ],
   "source": [
    "# using merging method to join netflix and credits table\n",
    "\n",
    "merged_df = pd.merge(netflix, credits, how='inner', on = 'id')\n",
    "merged_df[['id','person_id','name','role','title','type','imdb_id','imdb_score','imdb_votes','tmdb_popularity','tmdb_score']]"
   ]
  },
  {
   "cell_type": "markdown",
   "id": "b8b28ff3",
   "metadata": {},
   "source": [
    "# Director of top imdb rated movie"
   ]
  },
  {
   "cell_type": "code",
   "execution_count": 234,
   "id": "e8aa64d8",
   "metadata": {},
   "outputs": [
    {
     "data": {
      "text/html": [
       "<div>\n",
       "<style scoped>\n",
       "    .dataframe tbody tr th:only-of-type {\n",
       "        vertical-align: middle;\n",
       "    }\n",
       "\n",
       "    .dataframe tbody tr th {\n",
       "        vertical-align: top;\n",
       "    }\n",
       "\n",
       "    .dataframe thead th {\n",
       "        text-align: right;\n",
       "    }\n",
       "</style>\n",
       "<table border=\"1\" class=\"dataframe\">\n",
       "  <thead>\n",
       "    <tr style=\"text-align: right;\">\n",
       "      <th></th>\n",
       "      <th>title</th>\n",
       "      <th>type</th>\n",
       "      <th>name</th>\n",
       "    </tr>\n",
       "  </thead>\n",
       "  <tbody>\n",
       "    <tr>\n",
       "      <th>5228</th>\n",
       "      <td>The Dark Knight</td>\n",
       "      <td>MOVIE</td>\n",
       "      <td>Christopher Nolan</td>\n",
       "    </tr>\n",
       "    <tr>\n",
       "      <th>5363</th>\n",
       "      <td>The Dark Knight</td>\n",
       "      <td>MOVIE</td>\n",
       "      <td>Christopher Nolan</td>\n",
       "    </tr>\n",
       "    <tr>\n",
       "      <th>5855</th>\n",
       "      <td>The Lord of the Rings: The Return of the King</td>\n",
       "      <td>MOVIE</td>\n",
       "      <td>Peter Jackson</td>\n",
       "    </tr>\n",
       "    <tr>\n",
       "      <th>5934</th>\n",
       "      <td>The Lord of the Rings: The Return of the King</td>\n",
       "      <td>MOVIE</td>\n",
       "      <td>Peter Jackson</td>\n",
       "    </tr>\n",
       "  </tbody>\n",
       "</table>\n",
       "</div>"
      ],
      "text/plain": [
       "                                              title   type               name\n",
       "5228                                The Dark Knight  MOVIE  Christopher Nolan\n",
       "5363                                The Dark Knight  MOVIE  Christopher Nolan\n",
       "5855  The Lord of the Rings: The Return of the King  MOVIE      Peter Jackson\n",
       "5934  The Lord of the Rings: The Return of the King  MOVIE      Peter Jackson"
      ]
     },
     "execution_count": 234,
     "metadata": {},
     "output_type": "execute_result"
    }
   ],
   "source": [
    "top_imdb_rate_movie = (merged_df['imdb_score']==9.0) & (merged_df['type']=='MOVIE') & (merged_df['role']=='DIRECTOR')\n",
    "merged_df.loc[top_imdb_rate_movie][['title','type','name']]"
   ]
  },
  {
   "cell_type": "code",
   "execution_count": 235,
   "id": "8f5be2ea",
   "metadata": {},
   "outputs": [
    {
     "data": {
      "text/html": [
       "<div>\n",
       "<style scoped>\n",
       "    .dataframe tbody tr th:only-of-type {\n",
       "        vertical-align: middle;\n",
       "    }\n",
       "\n",
       "    .dataframe tbody tr th {\n",
       "        vertical-align: top;\n",
       "    }\n",
       "\n",
       "    .dataframe thead th {\n",
       "        text-align: right;\n",
       "    }\n",
       "</style>\n",
       "<table border=\"1\" class=\"dataframe\">\n",
       "  <thead>\n",
       "    <tr style=\"text-align: right;\">\n",
       "      <th></th>\n",
       "      <th>id</th>\n",
       "      <th>title</th>\n",
       "      <th>type</th>\n",
       "      <th>description</th>\n",
       "      <th>release_year</th>\n",
       "      <th>age_certification</th>\n",
       "      <th>runtime</th>\n",
       "      <th>genres</th>\n",
       "      <th>country</th>\n",
       "      <th>seasons</th>\n",
       "      <th>imdb_id</th>\n",
       "      <th>imdb_score</th>\n",
       "      <th>imdb_votes</th>\n",
       "      <th>tmdb_popularity</th>\n",
       "      <th>tmdb_score</th>\n",
       "      <th>person_id</th>\n",
       "      <th>name</th>\n",
       "      <th>character</th>\n",
       "      <th>role</th>\n",
       "    </tr>\n",
       "  </thead>\n",
       "  <tbody>\n",
       "  </tbody>\n",
       "</table>\n",
       "</div>"
      ],
      "text/plain": [
       "Empty DataFrame\n",
       "Columns: [id, title, type, description, release_year, age_certification, runtime, genres, country, seasons, imdb_id, imdb_score, imdb_votes, tmdb_popularity, tmdb_score, person_id, name, character, role]\n",
       "Index: []"
      ]
     },
     "execution_count": 235,
     "metadata": {},
     "output_type": "execute_result"
    }
   ],
   "source": [
    "# top imdb rated show has no director\n",
    "\n",
    "top_imdb_rate_show = (merged_df['imdb_score']==9.6) & (merged_df['type']=='SHOW') & (merged_df['role']=='DIRECTOR')\n",
    "merged_df.loc[top_imdb_rate_show]"
   ]
  },
  {
   "cell_type": "markdown",
   "id": "a16063df",
   "metadata": {},
   "source": [
    "# Name of the persons in netflix who are actor and director both "
   ]
  },
  {
   "cell_type": "code",
   "execution_count": 236,
   "id": "2430a1f7",
   "metadata": {},
   "outputs": [],
   "source": [
    "k=credits.groupby(['person_id','name']).agg({'role': list}).reset_index()"
   ]
  },
  {
   "cell_type": "code",
   "execution_count": 237,
   "id": "6a0ce0c4",
   "metadata": {},
   "outputs": [],
   "source": [
    "k['role'] = k['role'].apply(lambda x: ','.join(x))"
   ]
  },
  {
   "cell_type": "code",
   "execution_count": 238,
   "id": "06ccae4c",
   "metadata": {},
   "outputs": [
    {
     "data": {
      "text/plain": [
       "81             Nora Ephron\n",
       "106             Bo Burnham\n",
       "268             Andy Nyman\n",
       "374          Peter Jackson\n",
       "384             Ron Howard\n",
       "               ...        \n",
       "49720         Myriam Fares\n",
       "49837      Yedinson Flórez\n",
       "52453       Steven Rinella\n",
       "54590          Udoka Oyeka\n",
       "56512    Khaled Al-Mufaidi\n",
       "Name: name, Length: 433, dtype: object"
      ]
     },
     "execution_count": 238,
     "metadata": {},
     "output_type": "execute_result"
    }
   ],
   "source": [
    "k[k['role'].str.contains('|'.join(['ACTOR,DIRECTOR','DIRECTOR,ACTOR']))]['name']"
   ]
  },
  {
   "cell_type": "code",
   "execution_count": null,
   "id": "2697bce5",
   "metadata": {},
   "outputs": [],
   "source": []
  }
 ],
 "metadata": {
  "kernelspec": {
   "display_name": "Python 3 (ipykernel)",
   "language": "python",
   "name": "python3"
  },
  "language_info": {
   "codemirror_mode": {
    "name": "ipython",
    "version": 3
   },
   "file_extension": ".py",
   "mimetype": "text/x-python",
   "name": "python",
   "nbconvert_exporter": "python",
   "pygments_lexer": "ipython3",
   "version": "3.9.13"
  }
 },
 "nbformat": 4,
 "nbformat_minor": 5
}
